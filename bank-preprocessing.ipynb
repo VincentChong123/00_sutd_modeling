{
 "cells": [
  {
   "cell_type": "code",
   "execution_count": 10,
   "metadata": {},
   "outputs": [
    {
     "name": "stdout",
     "output_type": "stream",
     "text": [
      "bank-additional-full.csv_comma.csv  bank-full.csv_comma.csv\n",
      "bank-additional.csv_comma.csv\t    bank.csv_comma.csv\n"
     ]
    }
   ],
   "source": [
    "!dir ./dataset/telemarketing-bank-2012/csv"
   ]
  },
  {
   "cell_type": "code",
   "execution_count": null,
   "metadata": {},
   "outputs": [],
   "source": [
    "import os"
   ]
  },
  {
   "cell_type": "code",
   "execution_count": 9,
   "metadata": {},
   "outputs": [
    {
     "name": "stdout",
     "output_type": "stream",
     "text": [
      "['bank-additional.csv', 'bank-full.csv_comma.csv', 'file-list.txt', '.ipynb_checkpoints', 'bank-additional-full.csv', 'csv', 'bank-full.csv', 'bank.csv', 'bank.csv_comma.csv', 'link.txt', 'bank-names.txt', 'bank-additional-names.txt'] ['bank-additional.csv', 'bank-full.csv_comma.csv', 'bank-additional-full.csv', 'bank-full.csv', 'bank.csv', 'bank.csv_comma.csv']\n",
      "1/6: bank-additional.csv,  saved to ./dataset/telemarketing-bank-2012//csv/bank-additional.csv_comma.csv\n",
      "2/6: bank-full.csv_comma.csv,  saved to ./dataset/telemarketing-bank-2012//csv/bank-full.csv_comma.csv_comma.csv\n",
      "3/6: bank-additional-full.csv,  saved to ./dataset/telemarketing-bank-2012//csv/bank-additional-full.csv_comma.csv\n",
      "4/6: bank-full.csv,  saved to ./dataset/telemarketing-bank-2012//csv/bank-full.csv_comma.csv\n",
      "5/6: bank.csv,  saved to ./dataset/telemarketing-bank-2012//csv/bank.csv_comma.csv\n",
      "6/6: bank.csv_comma.csv,  saved to ./dataset/telemarketing-bank-2012//csv/bank.csv_comma.csv_comma.csv\n"
     ]
    }
   ],
   "source": [
    "data_dir = \"./dataset/telemarketing-bank-2012/\"\n",
    "csv_files = [f for f in os.listdir(data_dir) if f[-4:] == \".csv\"]\n",
    "print(os.listdir(data_dir), csv_files)\n",
    "\n",
    "for t, c in enumerate(csv_files):\n",
    "    print(f\"{t+1}/{len(csv_files)}: {c}, \", end = \"\")\n",
    "    f = open(data_dir + c, 'r')\n",
    "    before = f.read()\n",
    "    f.close()\n",
    "    \n",
    "    after = before.replace(\";\", ',')\n",
    "    \n",
    "    new_filename = data_dir + \"/csv/\" + c + \"_comma.csv\"\n",
    "    f = open(new_filename, \"w+\")\n",
    "    f.write(after)\n",
    "    f.close\n",
    "    \n",
    "    print(f\" saved to {new_filename}\")\n",
    "\n"
   ]
  },
  {
   "cell_type": "code",
   "execution_count": null,
   "metadata": {},
   "outputs": [],
   "source": []
  }
 ],
 "metadata": {
  "interpreter": {
   "hash": "d002f70c75c91d3ac0e81565e638f50a9028d0a85b2967ac01befbfb1708714f"
  },
  "kernelspec": {
   "display_name": "Python 3.7.11 ('py37-pip')",
   "language": "python",
   "name": "python3"
  },
  "language_info": {
   "codemirror_mode": {
    "name": "ipython",
    "version": 3
   },
   "file_extension": ".py",
   "mimetype": "text/x-python",
   "name": "python",
   "nbconvert_exporter": "python",
   "pygments_lexer": "ipython3",
   "version": "3.7.11"
  },
  "orig_nbformat": 4
 },
 "nbformat": 4,
 "nbformat_minor": 2
}
